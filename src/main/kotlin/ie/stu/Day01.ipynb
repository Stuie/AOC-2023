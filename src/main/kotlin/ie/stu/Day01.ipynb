{
 "cells": [
  {
   "cell_type": "code",
   "execution_count": 15,
   "metadata": {
    "collapsed": true,
    "ExecuteTime": {
     "end_time": "2023-12-01T05:52:38.328880900Z",
     "start_time": "2023-12-01T05:52:38.256364700Z"
    }
   },
   "outputs": [],
   "source": [
    "import java.io.File\n",
    "import kotlin.io.path.Path\n",
    "import kotlin.io.path.absolutePathString\n",
    "\n",
    "fun readInput(name: String) = File(\".\", \"$name.txt\").readLines().dropLastWhile { it.isBlank() }"
   ]
  },
  {
   "cell_type": "code",
   "execution_count": 16,
   "outputs": [],
   "source": [
    "val input = readInput(\"Day01\")"
   ],
   "metadata": {
    "collapsed": false,
    "ExecuteTime": {
     "end_time": "2023-12-01T05:52:38.379403400Z",
     "start_time": "2023-12-01T05:52:38.327878Z"
    }
   }
  },
  {
   "cell_type": "code",
   "execution_count": 17,
   "outputs": [
    {
     "name": "stdout",
     "output_type": "stream",
     "text": [
      "54667\r\n"
     ]
    }
   ],
   "source": [
    "import java.lang.NumberFormatException\n",
    "\n",
    "var runningSum = 0\n",
    "\n",
    "input.forEach { line ->\n",
    "    val lineChars = line.chunked(1)\n",
    "    val firstDigit = lineChars.first {\n",
    "        try {\n",
    "            it.toInt()\n",
    "            true\n",
    "        } catch (e: NumberFormatException) {\n",
    "            false\n",
    "        }\n",
    "    }\n",
    "    val secondDigit = lineChars.last {\n",
    "        try {\n",
    "            it.toInt()\n",
    "            true\n",
    "        } catch (e: NumberFormatException) {\n",
    "            false\n",
    "        }\n",
    "    }\n",
    "    \n",
    "    runningSum += \"$firstDigit$secondDigit\".toInt()\n",
    " }\n",
    " \n",
    " println(runningSum)"
   ],
   "metadata": {
    "collapsed": false,
    "ExecuteTime": {
     "end_time": "2023-12-01T05:52:38.601058300Z",
     "start_time": "2023-12-01T05:52:38.378401900Z"
    }
   }
  }
 ],
 "metadata": {
  "kernelspec": {
   "display_name": "Kotlin",
   "language": "kotlin",
   "name": "kotlin"
  },
  "language_info": {
   "name": "kotlin",
   "version": "1.9.0",
   "mimetype": "text/x-kotlin",
   "file_extension": ".kt",
   "pygments_lexer": "kotlin",
   "codemirror_mode": "text/x-kotlin",
   "nbconvert_exporter": ""
  },
  "ktnbPluginMetadata": {
   "projectDependencies": true
  }
 },
 "nbformat": 4,
 "nbformat_minor": 0
}
