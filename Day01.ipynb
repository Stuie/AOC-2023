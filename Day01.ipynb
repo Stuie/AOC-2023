{
 "cells": [
  {
   "cell_type": "code",
   "execution_count": 58,
   "metadata": {
    "collapsed": true,
    "ExecuteTime": {
     "end_time": "2023-12-01T06:35:10.478432100Z",
     "start_time": "2023-12-01T06:35:10.426457600Z"
    }
   },
   "outputs": [],
   "source": [
    "import java.io.File\n",
    "import kotlin.io.path.Path\n",
    "import kotlin.io.path.absolutePathString\n",
    "import java.lang.NullPointerException\n",
    "import java.lang.NumberFormatException\n",
    "\n",
    "fun readInput(name: String) = File(\".\", \"$name.txt\").readLines().dropLastWhile { it.isBlank() }"
   ]
  },
  {
   "cell_type": "code",
   "execution_count": 59,
   "outputs": [],
   "source": [
    "val input = readInput(\"Day01\")"
   ],
   "metadata": {
    "collapsed": false,
    "ExecuteTime": {
     "end_time": "2023-12-01T06:35:10.518259100Z",
     "start_time": "2023-12-01T06:35:10.472431Z"
    }
   }
  },
  {
   "cell_type": "code",
   "execution_count": 62,
   "outputs": [
    {
     "name": "stdout",
     "output_type": "stream",
     "text": [
      "54203\r\n"
     ]
    }
   ],
   "source": [
    "import java.util.regex.Pattern\n",
    "import kotlin.NullPointerException\n",
    "\n",
    "var runningSum = 0\n",
    "\n",
    "input.forEach { line ->\n",
    "\n",
    "    // Maintain the original characters when replacing words with digits because in some places\n",
    "    // the letter \"o\" is used as the start of \"one\" and the end of \"two\", for example, and the\n",
    "    // order is unknown\n",
    "    val lineChars = line\n",
    "        .replace(\"one\", \"one1e\")\n",
    "        .replace(\"two\", \"two2o\")\n",
    "        .replace(\"three\", \"three3e\")\n",
    "        .replace(\"four\", \"four4r\")\n",
    "        .replace(\"five\", \"five5e\")\n",
    "        .replace(\"six\", \"six6x\")\n",
    "        .replace(\"seven\", \"seven7n\")\n",
    "        .replace(\"eight\", \"eight8t\")\n",
    "        .replace(\"nine\", \"nine9e\")\n",
    "        .replace(Regex(\"[^0-9]\"), \"\")\n",
    "        .chunked(1)\n",
    "\n",
    "    //println(lineChars)\n",
    "\n",
    "    val firstDigit = lineChars.firstOrNull {\n",
    "        try {\n",
    "            it.toInt()\n",
    "            true\n",
    "        } catch (e: NullPointerException) {\n",
    "            println(\"FirstDigit Hit an NPE!\")\n",
    "            false\n",
    "        }\n",
    "    }\n",
    "\n",
    "    val secondDigit = lineChars.lastOrNull {\n",
    "        try {\n",
    "            it.toInt()\n",
    "            true\n",
    "        } catch (e: NullPointerException) {\n",
    "            println(\"SecondDigit Hit an NPE!\")\n",
    "            false\n",
    "        }\n",
    "    }\n",
    "    \n",
    "    //println(\"$runningSum + $firstDigit$secondDigit\")\n",
    "    \n",
    "    if (\"$firstDigit$secondDigit\".length != 2) println(\"Unexpected number length\")\n",
    "\n",
    "    runningSum += \"$firstDigit$secondDigit\".toInt()\n",
    "}\n",
    "\n",
    "println(runningSum)"
   ],
   "metadata": {
    "collapsed": false,
    "ExecuteTime": {
     "end_time": "2023-12-01T17:39:12.687587100Z",
     "start_time": "2023-12-01T17:39:12.553000100Z"
    }
   }
  },
  {
   "cell_type": "code",
   "execution_count": 61,
   "outputs": [],
   "source": [],
   "metadata": {
    "collapsed": false,
    "ExecuteTime": {
     "end_time": "2023-12-01T06:35:10.639052100Z",
     "start_time": "2023-12-01T06:35:10.634543400Z"
    }
   }
  }
 ],
 "metadata": {
  "kernelspec": {
   "display_name": "Kotlin",
   "language": "kotlin",
   "name": "kotlin"
  },
  "language_info": {
   "name": "kotlin",
   "version": "1.9.0",
   "mimetype": "text/x-kotlin",
   "file_extension": ".kt",
   "pygments_lexer": "kotlin",
   "codemirror_mode": "text/x-kotlin",
   "nbconvert_exporter": ""
  },
  "ktnbPluginMetadata": {
   "projectDependencies": true
  }
 },
 "nbformat": 4,
 "nbformat_minor": 0
}
